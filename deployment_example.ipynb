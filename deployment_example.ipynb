{
 "cells": [
  {
   "cell_type": "code",
   "execution_count": null,
   "id": "b3f8eb3d",
   "metadata": {},
   "outputs": [
    {
     "name": "stdout",
     "output_type": "stream",
     "text": [
      "----------------------------------------\n",
      "Input of chat activos cliente C-000002\n",
      "Los activos del cliente C-000002 son los siguientes:  \n",
      "- Efectivo en cuenta corriente: 4,271.29  \n",
      "- Inversiones: 83,308.11  \n",
      "- Propiedades: 197,005.18  \n",
      "- Otros activos: 17,899.06  \n",
      "\n",
      "(Source: cliente_C-000002.pdf)\n",
      "----------------------------------------\n",
      "Input of chat activos cliente C-990002\n",
      "No tengo información sobre el cliente C-990002. (Source: cliente_C-000002.pdf)\n",
      "----------------------------------------\n",
      "Input of chat activos cliente C-100002\n",
      "Los activos del cliente C-000002 son:  \n",
      "- Efectivo en cuenta corriente: 4,271.29  \n",
      "- Inversiones: 83,308.11  \n",
      "- Propiedades: 197,005.18  \n",
      "- Otros activos: 17,899.06  \n",
      "\n",
      "(Source: cliente_C-000002.pdf)\n",
      "----------------------------------------\n",
      "Input of chat predicción cliente C-100002\n",
      "Cliente no encontrado.\n",
      "----------------------------------------\n",
      "Input of chat predicción cliente C-000002\n",
      "Fecha de predicción: 2023-12-17. Balance neto predicho 36001.14.\n",
      "----------------------------------------\n",
      "Input of chat Hora en Tokio\n",
      "Lo siento, pero no puedo ayudarte con esa solicitud.\n"
     ]
    }
   ],
   "source": [
    "import urllib.request\n",
    "import json\n",
    "\n",
    "\n",
    "def call_agent(input_data):\n",
    "    body = str.encode(json.dumps(input_data))\n",
    "\n",
    "    url = 'https://dvillacreses1234-8208-ggexp.eastus2.inference.ml.azure.com/score'\n",
    "    api_key = ''\n",
    "\n",
    "    headers = {\n",
    "        'Content-Type': 'application/json',\n",
    "        'Accept': 'application/json',\n",
    "        'Authorization': 'Bearer ' + api_key\n",
    "    }\n",
    "\n",
    "    req = urllib.request.Request(url, body, headers)\n",
    "\n",
    "    try:\n",
    "        response = urllib.request.urlopen(req)\n",
    "        result = response.read()\n",
    "        return result.decode('utf-8')\n",
    "    except urllib.error.HTTPError as error:\n",
    "        print(\"The request failed with status code: \" + str(error.code))\n",
    "        print(error.info())\n",
    "        print(error.read().decode(\"utf8\", 'ignore'))\n",
    "\n",
    "\n",
    "input_data = {\n",
    "    \"chat_history\": [],\n",
    "    \"chat_input\": \"activos cliente C-000001\"\n",
    "}\n",
    "list_inputs = [\n",
    "    \"activos cliente C-000002\", \n",
    "    \"activos cliente C-990002\", \n",
    "    \"activos cliente C-100002\",\n",
    "    \"predicción cliente C-100002\",\n",
    "    \"predicción cliente C-000002\",\n",
    "    \"Hora en Tokio\"\n",
    "    ]\n",
    "for i in list_inputs:\n",
    "    input_data['chat_input'] = i\n",
    "    res = call_agent(input_data)\n",
    "    print(\"-\"*40)\n",
    "    print(f\"Input of chat {i}\")\n",
    "    print(json.loads(res)['chat_output'])"
   ]
  }
 ],
 "metadata": {
  "kernelspec": {
   "display_name": "base",
   "language": "python",
   "name": "python3"
  },
  "language_info": {
   "codemirror_mode": {
    "name": "ipython",
    "version": 3
   },
   "file_extension": ".py",
   "mimetype": "text/x-python",
   "name": "python",
   "nbconvert_exporter": "python",
   "pygments_lexer": "ipython3",
   "version": "3.12.8"
  }
 },
 "nbformat": 4,
 "nbformat_minor": 5
}
